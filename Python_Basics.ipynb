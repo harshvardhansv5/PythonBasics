{
  "nbformat": 4,
  "nbformat_minor": 0,
  "metadata": {
    "colab": {
      "provenance": []
    },
    "kernelspec": {
      "name": "python3",
      "display_name": "Python 3"
    },
    "language_info": {
      "name": "python"
    }
  },
  "cells": [
    {
      "cell_type": "markdown",
      "source": [
        "What is Python, and why is it popular?\n",
        "- Python is a programming language. Python is an interpreted, object-orientated, high-level programming language. It was built by Guido van Rossum. It can be used for multiple purposes, such as Web development, software development, Machine learning, AI, Deep learning, etc.\n",
        "- Python is easy to learn.\n",
        "- Python has an active, supportive community.\n",
        "- Python is well suited to data science and analytics.\n",
        "- Python is efficient, fast, and reliable.\n",
        "- Python offers versatile web-development solutions.\n"
      ],
      "metadata": {
        "id": "n2VXE5w4f_ab"
      }
    },
    {
      "cell_type": "markdown",
      "source": [
        "What is an interpreter in Python?\n",
        "- A python interpreter is a computer program that converts each high-level program statement into machine code. An interpreter translates the command that you write out into code that the computer can understand."
      ],
      "metadata": {
        "id": "Huc6f_TQgRa8"
      }
    },
    {
      "cell_type": "markdown",
      "source": [
        "What are pre-defined keywords in Python?\n",
        "\n",
        "- Python keywords are some predefined and reserved words in Python that have special meanings. Keywords are used to define the syntax of the coding. The keyword cannot be used as an identifier, function, or variable name. All the keywords in Python are written in lowercase except True and False. There are 35 keywords in Python 3.11.\n",
        "- For example - 'False', 'None', 'True', 'and', 'as', 'assert', 'async', 'await', 'break', 'class', 'continue', 'def', 'del', 'elif', 'else', 'except', 'finally', 'for', 'from', 'global', 'if', 'import', 'in', 'is' etc."
      ],
      "metadata": {
        "id": "_ibDazGmlqWS"
      }
    },
    {
      "cell_type": "markdown",
      "source": [
        "Can keywords be used as variable names?\n",
        "\n",
        "- No, keywords in Python cannot be used as variable names. Keywords are reserved words that have special meanings and are part of the syntax in Python. Using a keyword as a variable name will result in a SyntaxError.\n",
        "\n",
        "```\n",
        "if = 10  # SyntaxError: invalid syntax\n",
        "```\n"
      ],
      "metadata": {
        "id": "l35nGKNlndIy"
      }
    },
    {
      "cell_type": "markdown",
      "source": [
        "What is mutability in Python?\n",
        "- An object is considered mutable if its state or value can be modified after it is created. This means that you can alter its internal data or attributes without creating a new object. Examples of mutable objects in Python include lists, dictionaries, and sets."
      ],
      "metadata": {
        "id": "7alB3KV4ohga"
      }
    },
    {
      "cell_type": "markdown",
      "source": [
        "Why are lists mutable, but tuples are immutable?\n",
        "- Lists are designed to be dynamic and flexible. They are meant for situations where you need to modify, grow, or shrink the collection of items.\n",
        "- Tuples are designed to be fixed, unchangeable sequences. They are used in scenarios where the data should remain constant, ensuring safety and predictability.\n",
        "- Think of a list as a blackboard where you can erase and rewrite items, while a tuple is like a printed document that cannot be altered once printed."
      ],
      "metadata": {
        "id": "4tYKUz7Bo1fi"
      }
    },
    {
      "cell_type": "markdown",
      "source": [
        "What is the difference between “==” and “is” operators in Python?\n",
        "- \"==\" - Compares the values of two objects to check if they are equal.\n",
        "Returns **True** if the values are the same.\n",
        "\n",
        "\n",
        "---\n",
        "- \"is\" (Identity Operator) -Checks if two variables refer to the same object in memory. Returns **True** if the two variables point to the exact same object."
      ],
      "metadata": {
        "id": "nt2_Ov2FrX_x"
      }
    },
    {
      "cell_type": "markdown",
      "source": [
        "What are logical operators in Python?\n",
        "- Logical operators in Python combine conditional statements so you can perform different operations based on given conditions. They are used to carry out logical operations, returning Boolean values.\n",
        "- There are three types of Python logical operators:\n",
        "1.   AND operator\n",
        "2.   OR operator\n",
        "3.   NOT operator"
      ],
      "metadata": {
        "id": "tsluS6gptEuT"
      }
    },
    {
      "cell_type": "markdown",
      "source": [
        "What is type casting in Python?\n",
        "- Type Casting is the method to convert the Python variable datatype into a certain data type in order to perform the required operation by users.\n"
      ],
      "metadata": {
        "id": "H-1Gc2eluOlk"
      }
    },
    {
      "cell_type": "markdown",
      "source": [
        "What is the difference between implicit and explicit type casting?\n",
        "- There can be two types of type casting in Python:\n",
        "1.    Implicit Type Conversion - Python automatically converts  a to int\n",
        "```\n",
        "a = 7\n",
        "print(type(a)) # <class 'int'>\n",
        "```\n",
        "2.    Explicit Type Conversion - Python requires user intervention in order to change the variable data type to the desired data type.\n",
        "```\n",
        "a = 5\n",
        "n = float(a)\n",
        "print(type(n))  # <class 'float'>\n",
        "```\n",
        "\n"
      ],
      "metadata": {
        "id": "GFaOHEX5w0jT"
      }
    },
    {
      "cell_type": "markdown",
      "source": [
        "What is the purpose of conditional statements in Python?\n",
        "- In Python, a conditional statement allows you to execute certain blocks of code based on whether a condition is true or false. The most common conditional statements are if, elif, and else. For example -\n",
        "\n",
        "\n",
        "```\n",
        "age = 20\n",
        "if age >= 18:\n",
        "    if age >= 21:\n",
        "        print(\"You are eligible to drink and vote.\")\n",
        "    else:\n",
        "        print(\"You are eligible to vote but not to drink.\")\n",
        "else:\n",
        "    print(\"You are not eligible to vote.\")\n",
        "\n",
        "```\n",
        "\n"
      ],
      "metadata": {
        "id": "npfL9RscxUtp"
      }
    },
    {
      "cell_type": "markdown",
      "source": [
        "How does the elif statement work?\n",
        "- The elif statement in Python is short for \"else if,\" and it provides a way to check multiple conditions in a sequence after an initial if statement. It is used in conjunction with if and else to implement complex decision-making logic.\n",
        "\n",
        "\n",
        "```\n",
        "if condition1:\n",
        "    # Code block for condition1\n",
        "elif condition2:\n",
        "    # Code block for condition2\n",
        "elif condition3:\n",
        "    # Code block for condition3\n",
        "else:\n",
        "    # Code block if none of the above conditions are True\n",
        "\n",
        "```"
      ],
      "metadata": {
        "id": "XV9_7vkB0Q_c"
      }
    },
    {
      "cell_type": "markdown",
      "source": [
        "What is the difference between for and while loops?\n",
        "- Although both Python's **for** and **while** loops are used to repeat a block of code several times, their functions and typical applications are different.\n",
        "---\n",
        "- for Loop - Predefined iterations (e.g., iterating over a list, range, or string).\n",
        "When working with iterable objects like lists, dictionaries, or files.\n",
        "---\n",
        "- while Loop - Indefinite iterations (e.g., waiting for a condition to change).\n",
        "Scenarios where you don't know in advance how many iterations are required.\n",
        "\n",
        "\n"
      ],
      "metadata": {
        "id": "qQARB7T-xI0T"
      }
    },
    {
      "cell_type": "markdown",
      "source": [
        "Describe a scenario where a while loop is more suitable than a for loop.\n",
        "- Monitoring a sensor until a condition is met."
      ],
      "metadata": {
        "id": "cBErBW2P6cxH"
      }
    },
    {
      "cell_type": "code",
      "source": [
        "# Write a Python program to print \"Hello, World!\n",
        "print(\"Hello, World!\")"
      ],
      "metadata": {
        "colab": {
          "base_uri": "https://localhost:8080/"
        },
        "collapsed": true,
        "id": "3RQSURph7Xhk",
        "outputId": "822a6854-0148-4cd0-af5c-0eba55c98676"
      },
      "execution_count": 2,
      "outputs": [
        {
          "output_type": "stream",
          "name": "stdout",
          "text": [
            "Hello, World!\n"
          ]
        }
      ]
    },
    {
      "cell_type": "code",
      "source": [
        "# Write a Python program that displays your name and age.\n",
        "name = \"Harshavardhan\"\n",
        "age = 25\n",
        "print(\"Name:\",name)\n",
        "print(\"Age:\",age)"
      ],
      "metadata": {
        "colab": {
          "base_uri": "https://localhost:8080/"
        },
        "collapsed": true,
        "id": "dHrQvOOV85-u",
        "outputId": "a62a12e3-18a9-470e-ce36-fbb7de0baa91"
      },
      "execution_count": 3,
      "outputs": [
        {
          "output_type": "stream",
          "name": "stdout",
          "text": [
            "Name: Harshavardhan\n",
            "Age: 25\n"
          ]
        }
      ]
    },
    {
      "cell_type": "code",
      "source": [
        "# Write code to print all the pre-defined keywords in Python using the keyword library\n",
        "import keyword\n",
        "\n",
        "# Get the list of all Python keywords\n",
        "python_keywords = keyword.kwlist\n",
        "\n",
        "# Print the keywords\n",
        "print(\"Python Keywords:\")\n",
        "for kw in python_keywords:\n",
        "    print(kw)"
      ],
      "metadata": {
        "colab": {
          "base_uri": "https://localhost:8080/"
        },
        "collapsed": true,
        "id": "B-Og1DIU9asy",
        "outputId": "3486c5e1-4261-4979-f101-70841bec66ea"
      },
      "execution_count": 8,
      "outputs": [
        {
          "output_type": "stream",
          "name": "stdout",
          "text": [
            "Python Keywords:\n",
            "False\n",
            "None\n",
            "True\n",
            "and\n",
            "as\n",
            "assert\n",
            "async\n",
            "await\n",
            "break\n",
            "class\n",
            "continue\n",
            "def\n",
            "del\n",
            "elif\n",
            "else\n",
            "except\n",
            "finally\n",
            "for\n",
            "from\n",
            "global\n",
            "if\n",
            "import\n",
            "in\n",
            "is\n",
            "lambda\n",
            "nonlocal\n",
            "not\n",
            "or\n",
            "pass\n",
            "raise\n",
            "return\n",
            "try\n",
            "while\n",
            "with\n",
            "yield\n"
          ]
        }
      ]
    },
    {
      "cell_type": "code",
      "source": [
        "# Write a program that checks if a given word is a Python keyword\n",
        "import keyword\n",
        "# Get input from the user\n",
        "word = input(\"Enter a word: \")\n",
        "# Check if the word is a Python keyword\n",
        "if word in keyword.kwlist:\n",
        "    print(f\"'{word}' is a Python keyword.\")\n",
        "else:\n",
        "    print(f\"'{word}' is NOT a Python keyword.\")\n"
      ],
      "metadata": {
        "colab": {
          "base_uri": "https://localhost:8080/"
        },
        "collapsed": true,
        "id": "pOnqNMAU-pKN",
        "outputId": "9cef2763-00ec-4527-9147-a77c7105e623"
      },
      "execution_count": 9,
      "outputs": [
        {
          "output_type": "stream",
          "name": "stdout",
          "text": [
            "Enter a word: new\n",
            "'new' is NOT a Python keyword.\n"
          ]
        }
      ]
    },
    {
      "cell_type": "code",
      "source": [
        "# Create a list and tuple in Python, and demonstrate how attempting to change an element works differently for each\n",
        "# Create a list\n",
        "my_list = [1, 2, 3, 4, 5]\n",
        "\n",
        "# Create a tuple\n",
        "my_tuple = (1, 2, 3, 4, 5)\n",
        "\n",
        "# Attempt to change an element in the list\n",
        "print(\"Original list:\", my_list)\n",
        "my_list[2] = 100  # Modify an element in the list\n",
        "print(\"Modified list:\", my_list)\n",
        "\n",
        "# Attempt to change an element in the tuple\n",
        "print(\"\\nOriginal tuple:\", my_tuple)\n",
        "try:\n",
        "    my_tuple[2] = 100  # Try to modify an element in the tuple\n",
        "except TypeError as e:\n",
        "    print(\"Error while modifying tuple:\", e)\n"
      ],
      "metadata": {
        "colab": {
          "base_uri": "https://localhost:8080/"
        },
        "id": "N8LqG64o_beD",
        "outputId": "7130a027-fc4a-4e98-b0ff-93ccaf6633ff"
      },
      "execution_count": 14,
      "outputs": [
        {
          "output_type": "stream",
          "name": "stdout",
          "text": [
            "Original list: [1, 2, 3, 4, 5]\n",
            "Modified list: [1, 2, 100, 4, 5]\n",
            "\n",
            "Original tuple: (1, 2, 3, 4, 5)\n",
            "Error while modifying tuple: 'tuple' object does not support item assignment\n"
          ]
        }
      ]
    },
    {
      "cell_type": "code",
      "source": [
        "#Write a function to demonstrate the behavior of mutable and immutable arguments.\n",
        "def demo_mutable_immutable(lst, val):\n",
        "    # Modify the mutable argument (list)\n",
        "    lst.append(100)\n",
        "\n",
        "    # Modify the immutable argument (val)\n",
        "    val = val + 10\n",
        "\n",
        "    print(\"List (mutable) after modification:\", lst)\n",
        "    print(\"Value (immutable) after modification:\", val)\n",
        "\n",
        "\n",
        "# Test with a mutable and immutable argument\n",
        "my_list = [1, 2, 3]\n",
        "my_value = 50\n",
        "\n",
        "demo_mutable_immutable(my_list, my_value)\n",
        "\n",
        "# Check the original values after function call\n",
        "print(\"\\nOriginal list after function call:\", my_list)  # List is modified\n",
        "print(\"Original value after function call:\", my_value)  # Value is unchanged"
      ],
      "metadata": {
        "colab": {
          "base_uri": "https://localhost:8080/"
        },
        "id": "KAmmmy4YCMDq",
        "outputId": "57274346-822e-44c5-9880-478a067d2b2c"
      },
      "execution_count": 15,
      "outputs": [
        {
          "output_type": "stream",
          "name": "stdout",
          "text": [
            "List (mutable) after modification: [1, 2, 3, 100]\n",
            "Value (immutable) after modification: 60\n",
            "\n",
            "Original list after function call: [1, 2, 3, 100]\n",
            "Original value after function call: 50\n"
          ]
        }
      ]
    },
    {
      "cell_type": "code",
      "source": [
        "# Write a program to demonstrate the use of logical operators.\n",
        "# Define two variables.\n",
        "x = 5\n",
        "y = 10\n",
        "\n",
        "# Using 'and'\n",
        "print(x > 3 and y > 5)  # True, because both conditions are true.\n",
        "\n",
        "# Using 'or'\n",
        "print(x > 3 or y < 5)   # True, because the first condition is true.\n",
        "\n",
        "# Using 'not'\n",
        "print(not(x > 3))  # False, because x > 3 is True, so not True is False.\n"
      ],
      "metadata": {
        "colab": {
          "base_uri": "https://localhost:8080/"
        },
        "collapsed": true,
        "id": "4evVzgzuDMUW",
        "outputId": "4860d304-a576-4dbd-a69e-b06a08d0ec45"
      },
      "execution_count": 16,
      "outputs": [
        {
          "output_type": "stream",
          "name": "stdout",
          "text": [
            "False\n",
            "True\n",
            "False\n",
            "True\n"
          ]
        }
      ]
    },
    {
      "cell_type": "code",
      "source": [
        "# Write a program that checks if a number is positive, negative, or zero.\n",
        "ab = int(input('Enter a number'))\n",
        "if ab>0:\n",
        "    print(\"The number is positive:\", ab)\n",
        "elif ab<0:\n",
        "    print(\"The number is negative:\",ab)\n",
        "else:\n",
        "    print(\"The number is zero\")"
      ],
      "metadata": {
        "colab": {
          "base_uri": "https://localhost:8080/"
        },
        "id": "GWrktgABFafE",
        "outputId": "93c3818c-c863-4a56-eafc-fe49177c06f3"
      },
      "execution_count": 17,
      "outputs": [
        {
          "output_type": "stream",
          "name": "stdout",
          "text": [
            "Enter a number45\n",
            "The number is positive: 45\n"
          ]
        }
      ]
    },
    {
      "cell_type": "code",
      "source": [
        "# Write a for loop to print numbers from 1 to 100\n",
        "for i in range(1, 101):\n",
        "    print(i)"
      ],
      "metadata": {
        "colab": {
          "base_uri": "https://localhost:8080/"
        },
        "collapsed": true,
        "id": "2SKEE6UQF5lm",
        "outputId": "fc6a453c-6e02-4418-8902-c30331c7d986"
      },
      "execution_count": 18,
      "outputs": [
        {
          "output_type": "stream",
          "name": "stdout",
          "text": [
            "1\n",
            "2\n",
            "3\n",
            "4\n",
            "5\n",
            "6\n",
            "7\n",
            "8\n",
            "9\n",
            "10\n",
            "11\n",
            "12\n",
            "13\n",
            "14\n",
            "15\n",
            "16\n",
            "17\n",
            "18\n",
            "19\n",
            "20\n",
            "21\n",
            "22\n",
            "23\n",
            "24\n",
            "25\n",
            "26\n",
            "27\n",
            "28\n",
            "29\n",
            "30\n",
            "31\n",
            "32\n",
            "33\n",
            "34\n",
            "35\n",
            "36\n",
            "37\n",
            "38\n",
            "39\n",
            "40\n",
            "41\n",
            "42\n",
            "43\n",
            "44\n",
            "45\n",
            "46\n",
            "47\n",
            "48\n",
            "49\n",
            "50\n",
            "51\n",
            "52\n",
            "53\n",
            "54\n",
            "55\n",
            "56\n",
            "57\n",
            "58\n",
            "59\n",
            "60\n",
            "61\n",
            "62\n",
            "63\n",
            "64\n",
            "65\n",
            "66\n",
            "67\n",
            "68\n",
            "69\n",
            "70\n",
            "71\n",
            "72\n",
            "73\n",
            "74\n",
            "75\n",
            "76\n",
            "77\n",
            "78\n",
            "79\n",
            "80\n",
            "81\n",
            "82\n",
            "83\n",
            "84\n",
            "85\n",
            "86\n",
            "87\n",
            "88\n",
            "89\n",
            "90\n",
            "91\n",
            "92\n",
            "93\n",
            "94\n",
            "95\n",
            "96\n",
            "97\n",
            "98\n",
            "99\n",
            "100\n"
          ]
        }
      ]
    },
    {
      "cell_type": "code",
      "source": [
        "# Write a Python program to find the sum of all even numbers between 1 and 50\n",
        "# Initialize sum to 0\n",
        "sum_of_even_numbers = 0\n",
        "\n",
        "# Loop through even numbers from 2 to 50\n",
        "for num in range(2, 51, 2):\n",
        "    sum_of_even_numbers += num\n",
        "\n",
        "# Print the sum\n",
        "print(\"Sum of all even numbers between 1 and 50:\", sum_of_even_numbers)"
      ],
      "metadata": {
        "colab": {
          "base_uri": "https://localhost:8080/"
        },
        "id": "hPBW764xGNpM",
        "outputId": "52058178-b278-4121-a236-751571b5f24f"
      },
      "execution_count": 19,
      "outputs": [
        {
          "output_type": "stream",
          "name": "stdout",
          "text": [
            "Sum of all even numbers between 1 and 50: 650\n"
          ]
        }
      ]
    },
    {
      "cell_type": "code",
      "source": [
        "# Write a program to reverse a string using a while loop\n",
        "# Input string from the user\n",
        "user_input = input(\"Enter a string: \")\n",
        "\n",
        "# Initialize reversed string as an empty string\n",
        "reversed_string = \"\"\n",
        "\n",
        "# Initialize index to the last character of the string\n",
        "index = len(user_input) - 1\n",
        "\n",
        "# Reverse the string using a while loop\n",
        "while index >= 0:\n",
        "    reversed_string += user_input[index]\n",
        "    index -= 1\n",
        "\n",
        "# Print the reversed string\n",
        "print(reversed_string)"
      ],
      "metadata": {
        "colab": {
          "base_uri": "https://localhost:8080/"
        },
        "id": "Jlyn_LRaHL71",
        "outputId": "4e0cd581-2515-48bd-958b-2837f7509e5e"
      },
      "execution_count": 24,
      "outputs": [
        {
          "output_type": "stream",
          "name": "stdout",
          "text": [
            "Enter a string: rockstar\n",
            "ratskcor\n"
          ]
        }
      ]
    },
    {
      "cell_type": "code",
      "source": [
        "# Write a Python program to calculate the factorial of a number provided by the user using a while loop.\n",
        "# Get input from the user\n",
        "num = int(input(\"Enter a number: \"))\n",
        "\n",
        "# Initialize factorial to 1\n",
        "factorial = 1\n",
        "\n",
        "# Initialize a counter variable\n",
        "i = 1\n",
        "\n",
        "# Calculate factorial using a while loop\n",
        "while i <= num:\n",
        "    factorial *= i\n",
        "    i += 1\n",
        "\n",
        "# Print the result\n",
        "print(\"Factorial of\", num, \"is\", factorial)"
      ],
      "metadata": {
        "colab": {
          "base_uri": "https://localhost:8080/"
        },
        "id": "ruLtka_UHnUu",
        "outputId": "ff329067-704a-466d-db09-fd02e39cb979"
      },
      "execution_count": 22,
      "outputs": [
        {
          "output_type": "stream",
          "name": "stdout",
          "text": [
            "Enter a number: 5\n",
            "Factorial of 5 is 120\n"
          ]
        }
      ]
    },
    {
      "cell_type": "code",
      "source": [
        "# Write code to demonstrate type casting with list elements\n",
        "# Create a list of numbers in string format and other types\n",
        "my_list = [\"1\", \"2\", \"3.5\", \"True\"]\n",
        "\n",
        "# Convert strings to integers where possible\n",
        "my_list[0] = int(my_list[0])  # Convert \"1\" to 1\n",
        "my_list[1] = int(my_list[1])  # Convert \"2\" to 2\n",
        "\n",
        "# Convert the string \"3.5\" to a float\n",
        "my_list[2] = float(my_list[2])  # Convert \"3.5\" to 3.5\n",
        "\n",
        "# Convert the string \"True\" to a boolean (True/False)\n",
        "my_list[3] = bool(my_list[3])  # Convert \"True\" to True\n",
        "\n",
        "# Print the updated list\n",
        "print(my_list)\n"
      ],
      "metadata": {
        "colab": {
          "base_uri": "https://localhost:8080/"
        },
        "id": "lXz_LwJhIuGU",
        "outputId": "a4fd43e4-39c2-412e-c25b-53e8af008ae4"
      },
      "execution_count": 23,
      "outputs": [
        {
          "output_type": "stream",
          "name": "stdout",
          "text": [
            "[1, 2, 3.5, True]\n"
          ]
        }
      ]
    },
    {
      "cell_type": "code",
      "source": [
        "# Write a Python program to convert user input from string to integer, float, and boolean types\n",
        "# Get user input\n",
        "user_input = input(\"Enter something: \")\n",
        "\n",
        "# Convert to integer\n",
        "integer_value = int(user_input)\n",
        "\n",
        "# Convert to float\n",
        "float_value = float(user_input)\n",
        "\n",
        "# Convert to boolean\n",
        "boolean_value = bool(user_input)\n",
        "\n",
        "# Print the results\n",
        "print(\"Integer:\", integer_value)\n",
        "print(\"Float:\", float_value)\n",
        "print(\"Boolean:\", boolean_value)\n"
      ],
      "metadata": {
        "colab": {
          "base_uri": "https://localhost:8080/"
        },
        "id": "4OnRExekJN8o",
        "outputId": "7dcdd435-c97c-4000-e2dc-3732629916d0"
      },
      "execution_count": 25,
      "outputs": [
        {
          "output_type": "stream",
          "name": "stdout",
          "text": [
            "Enter something: 4\n",
            "Integer: 4\n",
            "Float: 4.0\n",
            "Boolean: True\n"
          ]
        }
      ]
    }
  ]
}